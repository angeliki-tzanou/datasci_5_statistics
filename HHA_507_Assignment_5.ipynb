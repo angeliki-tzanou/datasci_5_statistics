{
  "nbformat": 4,
  "nbformat_minor": 0,
  "metadata": {
    "colab": {
      "provenance": [],
      "authorship_tag": "ABX9TyO0OgaolnGJZMrcj4u7Q5yv",
      "include_colab_link": true
    },
    "kernelspec": {
      "name": "python3",
      "display_name": "Python 3"
    },
    "language_info": {
      "name": "python"
    }
  },
  "cells": [
    {
      "cell_type": "markdown",
      "metadata": {
        "id": "view-in-github",
        "colab_type": "text"
      },
      "source": [
        "<a href=\"https://colab.research.google.com/github/angeliki-tzanou/datasci_5_statistics/blob/main/HHA_507_Assignment_5.ipynb\" target=\"_parent\"><img src=\"https://colab.research.google.com/assets/colab-badge.svg\" alt=\"Open In Colab\"/></a>"
      ]
    },
    {
      "cell_type": "markdown",
      "source": [
        "## Assignment #5: Inderenital Statistics"
      ],
      "metadata": {
        "id": "xL_mgj7iXO2B"
      }
    },
    {
      "cell_type": "markdown",
      "source": [
        "##Chi-Square test:"
      ],
      "metadata": {
        "id": "sLRhgUYTXeM0"
      }
    },
    {
      "cell_type": "markdown",
      "source": [
        "- Loading Packages & dataset:\n",
        "\n"
      ],
      "metadata": {
        "id": "Az9fVotqXXEt"
      }
    },
    {
      "cell_type": "code",
      "execution_count": 1,
      "metadata": {
        "id": "vG3WQDilSPrE"
      },
      "outputs": [],
      "source": [
        "import pandas as pd"
      ]
    },
    {
      "cell_type": "code",
      "source": [
        "from scipy.stats import chi2_contingency as chi2"
      ],
      "metadata": {
        "id": "4Ec1pPqAW0_H"
      },
      "execution_count": 5,
      "outputs": []
    },
    {
      "cell_type": "code",
      "source": [
        "df_op = pd.read_csv('opiod.csv')"
      ],
      "metadata": {
        "id": "Y8BrMMaxXbRM"
      },
      "execution_count": 6,
      "outputs": []
    },
    {
      "cell_type": "markdown",
      "source": [
        "- Creating the table and the chi-square test:\n",
        "\n"
      ],
      "metadata": {
        "id": "OgC-EfWsXoaF"
      }
    },
    {
      "cell_type": "code",
      "source": [
        "contingency_table = pd.crosstab(df_op['Payer'], df_op['Rural/Urban'])"
      ],
      "metadata": {
        "id": "SDukK4wVX4U4"
      },
      "execution_count": 7,
      "outputs": []
    },
    {
      "cell_type": "code",
      "source": [
        "print(contingency_table)"
      ],
      "metadata": {
        "colab": {
          "base_uri": "https://localhost:8080/"
        },
        "id": "rXwq7M6nYLjS",
        "outputId": "ad3fca84-93b2-4374-d83a-820de003c6cf"
      },
      "execution_count": 8,
      "outputs": [
        {
          "output_type": "stream",
          "name": "stdout",
          "text": [
            "Rural/Urban  Rural  State  Urban\n",
            "Payer                           \n",
            "All Payers       0      6      0\n",
            "Commercial     144      6    240\n",
            "Medicaid       144      6    240\n",
            "Medicare       144      6    240\n",
            "Other          144      6    240\n",
            "Unknown        142      6    236\n"
          ]
        }
      ]
    },
    {
      "cell_type": "markdown",
      "source": [
        "- Creating the chi-square test:"
      ],
      "metadata": {
        "id": "gInNjAZwYYOs"
      }
    },
    {
      "cell_type": "code",
      "source": [
        "from scipy.stats.contingency import chi2_contingency"
      ],
      "metadata": {
        "id": "RBQuPLYfaJeI"
      },
      "execution_count": 22,
      "outputs": []
    },
    {
      "cell_type": "code",
      "source": [
        "chi2, p, _, _= chi2_contingency(contingency_table)\n",
        "print(f\"Chi2 value: {chi2}\")\n",
        "print(f\"P-value: {p}\")"
      ],
      "metadata": {
        "colab": {
          "base_uri": "https://localhost:8080/"
        },
        "outputId": "6d67fe14-6e15-41b6-81e2-a550c6625f2e",
        "id": "uoxqZfRhaWbT"
      },
      "execution_count": 23,
      "outputs": [
        {
          "output_type": "stream",
          "name": "stdout",
          "text": [
            "Chi2 value: 319.98611827610137\n",
            "P-value: 9.183664413295381e-63\n"
          ]
        }
      ]
    }
  ]
}